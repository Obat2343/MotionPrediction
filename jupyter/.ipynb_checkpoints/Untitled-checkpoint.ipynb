{
 "cells": [
  {
   "cell_type": "code",
   "execution_count": null,
   "metadata": {},
   "outputs": [],
   "source": [
    "import os\n",
    "\n",
    "os.environ[\"CUDA_VISIBLE_DEVICES\"]=\"2\""
   ]
  },
  {
   "cell_type": "code",
   "execution_count": null,
   "metadata": {},
   "outputs": [],
   "source": [
    "import sys\n",
    "import os\n",
    "import time\n",
    "import datetime\n",
    "import argparse\n",
    "import tensorboardX\n",
    "import torch\n",
    "import shutil\n",
    "import kornia\n",
    "import torchvision\n",
    "from tqdm.notebook import tqdm\n",
    "from pytorch_memlab import profile, MemReporter\n",
    "from torchvision import datasets, models, transforms\n",
    "from torch.utils.data import DataLoader\n",
    "from torch.optim.lr_scheduler import StepLR\n",
    "import torch.nn as nn\n",
    "sys.path.append('../')\n",
    "\n",
    "from pycode.dataset import RLBench_dataset_VP, imageaug_full_transform, train_val_split, pose_aug, depth_aug\n",
    "from pycode.config import _C as cfg\n",
    "from pycode.model.sync_batchnorm import convert_model\n",
    "from pycode.model.Pose_pred import Discriminator, stacked_hourglass_model, sequence_hourglass, VIDEO_HOURGLASS\n",
    "from pycode.pose_loss_functions import Test_Loss_Video\n",
    "from pycode.misc import build_model, build_optimizer, str2bool, save_args, save_checkpoint, load_checkpoint, make_overlay_image, make_overlay_image_and_heatmap, make_pos_image, convert_heatmap"
   ]
  },
  {
   "cell_type": "code",
   "execution_count": null,
   "metadata": {},
   "outputs": [],
   "source": [
    "# parser\n",
    "parser = argparse.ArgumentParser(description='parser for image generator')\n",
    "parser.add_argument('--config_file', type=str, default='', metavar='FILE', help='if not specified, use chepoint_path')\n",
    "parser.add_argument('--output_dirname', type=str, default='', help='if not specified, use checkpoint_path')\n",
    "parser.add_argument('--checkpoint_path','-c', type=str, help='e.g. output/RLdata/VP_pcf_dis_random/model_log/checkpoint_epoch0_iter100000/')\n",
    "args = parser.parse_args(args=['--config_file','../configs/softargmax.yaml', '--output_dirname','result'])\n",
    "\n",
    "# get cfg data\n",
    "if len(args.config_file) > 0:\n",
    "    print('Loaded configration file {}'.format(args.config_file))\n",
    "    cfg.merge_from_file(args.config_file)\n",
    "else:\n",
    "    config_dir = os.path.abspath(os.path.join(args.checkpoint_path, '../../'))\n",
    "    file_list = os.listdir(config_dir)\n",
    "    print(file_list)\n",
    "    yaml_file_name = [x for x in file_list if '.yaml' in x]\n",
    "    print(yaml_file_name)\n",
    "    config_file_path = os.path.join(config_dir, yaml_file_name[0])\n",
    "    print('Loaded configration file {}'.format(config_file_path))\n",
    "    cfg.merge_from_file(config_file_path)\n",
    "\n",
    "# define output dirname\n",
    "if len(args.output_dirname) > 0:\n",
    "    output_dirname = args.output_dirname\n",
    "    output_dirname = os.path.join(cfg.BASIC.OUTPUT_DIR, cfg.DATASET.NAME, output_dirname)\n",
    "else:\n",
    "    output_dirname = os.path.abspath(os.path.join(args.checkpoint_path,\"../../\"))\n",
    "\n",
    "cfg.PRED_LEN = 1\n",
    "cfg.BASIC.NUM_GPU = 1\n",
    "cfg.BASIC.BATCH_SIZE = 1\n",
    "cfg.freeze()\n",
    "\n",
    "# make output dir\n",
    "os.makedirs(cfg.BASIC.OUTPUT_DIR, exist_ok=True)\n",
    "\n",
    "# set seed and cuda\n",
    "torch.manual_seed(cfg.BASIC.SEED)\n",
    "cuda = torch.cuda.is_available()\n",
    "device = torch.device(cfg.BASIC.DEVICE)\n",
    "\n",
    "if cuda:\n",
    "    torch.backends.cudnn.benchmark = True\n",
    "    torch.backends.cudnn.deterministic = True\n",
    "    torch.cuda.manual_seed(cfg.BASIC.SEED)"
   ]
  }
 ],
 "metadata": {
  "kernelspec": {
   "display_name": "Python 3",
   "language": "python",
   "name": "python3"
  },
  "language_info": {
   "codemirror_mode": {
    "name": "ipython",
    "version": 3
   },
   "file_extension": ".py",
   "mimetype": "text/x-python",
   "name": "python",
   "nbconvert_exporter": "python",
   "pygments_lexer": "ipython3",
   "version": "3.6.9"
  }
 },
 "nbformat": 4,
 "nbformat_minor": 4
}
