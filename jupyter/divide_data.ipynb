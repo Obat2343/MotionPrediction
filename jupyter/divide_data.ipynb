{
 "cells": [
  {
   "cell_type": "code",
   "execution_count": null,
   "metadata": {},
   "outputs": [],
   "source": [
    "import pickle\n",
    "import sys\n",
    "import os\n",
    "from joblib import Parallel, delayed"
   ]
  },
  {
   "cell_type": "code",
   "execution_count": 2,
   "metadata": {},
   "outputs": [],
   "source": [
    "root_path = os.path.abspath('../dataset/RLBench2/train/')\n",
    "\n",
    "def save_pickle(path,data):\n",
    "    with open(path, 'wb') as f:\n",
    "        pickle.dump(data, f)"
   ]
  },
  {
   "cell_type": "code",
   "execution_count": 3,
   "metadata": {},
   "outputs": [],
   "source": [
    "task_list = os.listdir(root_path)\n",
    "\n",
    "def process(pickle_file_name):\n",
    "    pickle_file_path = os.path.join(pickle_dir, pickle_file_name)\n",
    "    print('open file')\n",
    "    with open(pickle_file_path, 'rb') as f:\n",
    "        pickle_data = pickle.load(f)\n",
    "\n",
    "    base_data = {}\n",
    "    front_camera_data = {}\n",
    "    left_camera_data = {}\n",
    "    right_camera_data = {}\n",
    "    wrist_camera_data = {}\n",
    "\n",
    "    base_data['front_extrinsic_matrix'] = pickle_data.front_extrinsic_matrix\n",
    "    base_data['front_intrinsic_matrix'] = pickle_data.front_intrinsic_matrix\n",
    "    base_data['left_shoulder_extrinsic_matrix'] = pickle_data.left_shoulder_extrinsic_matrix\n",
    "    base_data['left_shoulder_intrinsic_matrix'] = pickle_data.left_shoulder_intrinsic_matrix\n",
    "    base_data['right_shoulder_extrinsic_matrix'] = pickle_data.right_shoulder_extrinsic_matrix\n",
    "    base_data['right_shoulder_intrinsic_matrix'] = pickle_data.right_shoulder_intrinsic_matrix\n",
    "    base_data['wrist_extrinsic_matrix'] = pickle_data.wrist_extrinsic_matrix\n",
    "    base_data['wrist_intrinsic_matrix'] = pickle_data.wrist_intrinsic_matrix\n",
    "    base_data['gripper_joint_positions'] = pickle_data.gripper_joint_positions\n",
    "    base_data['gripper_matrix'] = pickle_data.gripper_matrix\n",
    "    base_data['gripper_open'] = pickle_data.gripper_open\n",
    "    base_data['gripper_pose'] = pickle_data.gripper_pose\n",
    "    base_data['gripper_touch_forces'] = pickle_data.gripper_touch_forces\n",
    "    base_data['joint_forces'] = pickle_data.joint_forces\n",
    "    base_data['joint_positions'] = pickle_data.joint_positions\n",
    "    base_data['joint_velocities'] = pickle_data.joint_velocities\n",
    "    base_data['joints'] = pickle_data.joints\n",
    "    base_data['task_low_dim_state'] = pickle_data.task_low_dim_state\n",
    "    base_data_path = os.path.join(base_data_dir, pickle_file_name)\n",
    "    save_pickle(base_data_path, base_data)\n",
    "    print('save_pickle base')\n",
    "\n",
    "    front_camera_data['rgb'] = pickle_data.front_rgb\n",
    "    front_camera_data['mask'] = pickle_data.front_mask\n",
    "    front_camera_data['depth'] = pickle_data.front_depth\n",
    "    front_camera_data_path = os.path.join(front_camera_dir, pickle_file_name)\n",
    "    save_pickle(front_camera_data_path, front_camera_data)\n",
    "    print('save_pickle front')\n",
    "\n",
    "    left_camera_data['rgb'] = pickle_data.left_shoulder_rgb\n",
    "    left_camera_data['mask'] = pickle_data.left_shoulder_mask\n",
    "    left_camera_data['depth'] = pickle_data.left_shoulder_depth\n",
    "    left_camera_data_path = os.path.join(left_camera_dir, pickle_file_name)\n",
    "    save_pickle(left_camera_data_path, left_camera_data)\n",
    "    print('save_pickle left')\n",
    "\n",
    "    right_camera_data['rgb'] = pickle_data.right_shoulder_rgb\n",
    "    right_camera_data['mask'] = pickle_data.right_shoulder_mask\n",
    "    right_camera_data['depth'] = pickle_data.right_shoulder_depth\n",
    "    right_camera_data_path = os.path.join(right_camera_dir, pickle_file_name)\n",
    "    save_pickle(right_camera_data_path, right_camera_data)\n",
    "    print('save_pickle right')\n",
    "\n",
    "    wrist_camera_data['rgb'] = pickle_data.wrist_rgb\n",
    "    wrist_camera_data['mask'] = pickle_data.wrist_mask\n",
    "    wrist_camera_data['depth'] = pickle_data.wrist_depth\n",
    "    wrist_camera_data_path = os.path.join(wrist_camera_dir, pickle_file_name)\n",
    "    save_pickle(wrist_camera_data_path, wrist_camera_data)\n",
    "    print('save_pickle wrist')"
   ]
  },
  {
   "cell_type": "code",
   "execution_count": 7,
   "metadata": {},
   "outputs": [
    {
     "name": "stdout",
     "output_type": "stream",
     "text": [
      "task: PickUpCup number: 00000\n"
     ]
    },
    {
     "name": "stderr",
     "output_type": "stream",
     "text": [
      "[Parallel(n_jobs=-1)]: Using backend LokyBackend with 28 concurrent workers.\n",
      "[Parallel(n_jobs=-1)]: Done   5 tasks      | elapsed:  2.3min\n",
      "[Parallel(n_jobs=-1)]: Done  16 tasks      | elapsed:  2.3min\n",
      "[Parallel(n_jobs=-1)]: Done  37 out of  83 | elapsed:  2.9min remaining:  3.7min\n",
      "[Parallel(n_jobs=-1)]: Done  46 out of  83 | elapsed:  3.0min remaining:  2.4min\n",
      "[Parallel(n_jobs=-1)]: Done  55 out of  83 | elapsed:  3.0min remaining:  1.5min\n",
      "[Parallel(n_jobs=-1)]: Done  64 out of  83 | elapsed:  3.6min remaining:  1.1min\n",
      "[Parallel(n_jobs=-1)]: Done  73 out of  83 | elapsed:  3.7min remaining:   30.1s\n",
      "[Parallel(n_jobs=-1)]: Done  83 out of  83 | elapsed:  3.7min finished\n",
      "[Parallel(n_jobs=-1)]: Using backend LokyBackend with 28 concurrent workers.\n"
     ]
    },
    {
     "name": "stdout",
     "output_type": "stream",
     "text": [
      "task: PickUpCup number: 00001\n"
     ]
    },
    {
     "name": "stderr",
     "output_type": "stream",
     "text": [
      "[Parallel(n_jobs=-1)]: Done   5 tasks      | elapsed:   29.3s\n",
      "[Parallel(n_jobs=-1)]: Done  16 tasks      | elapsed:   45.0s\n",
      "[Parallel(n_jobs=-1)]: Done  29 tasks      | elapsed:  1.2min\n",
      "[Parallel(n_jobs=-1)]: Done  42 tasks      | elapsed:  1.4min\n",
      "[Parallel(n_jobs=-1)]: Done  67 out of 110 | elapsed:  2.1min remaining:  1.4min\n",
      "[Parallel(n_jobs=-1)]: Done  79 out of 110 | elapsed:  2.3min remaining:   53.6s\n",
      "[Parallel(n_jobs=-1)]: Done  91 out of 110 | elapsed:  2.8min remaining:   34.6s\n",
      "[Parallel(n_jobs=-1)]: Done 103 out of 110 | elapsed:  2.9min remaining:   11.9s\n",
      "[Parallel(n_jobs=-1)]: Done 110 out of 110 | elapsed:  2.9min finished\n"
     ]
    },
    {
     "name": "stdout",
     "output_type": "stream",
     "text": [
      "task: PickUpCup number: 00002\n"
     ]
    },
    {
     "name": "stderr",
     "output_type": "stream",
     "text": [
      "[Parallel(n_jobs=-1)]: Using backend LokyBackend with 28 concurrent workers.\n",
      "[Parallel(n_jobs=-1)]: Done   5 tasks      | elapsed:   37.6s\n",
      "[Parallel(n_jobs=-1)]: Done  16 tasks      | elapsed:   46.1s\n",
      "[Parallel(n_jobs=-1)]: Done  29 tasks      | elapsed:  1.3min\n",
      "[Parallel(n_jobs=-1)]: Done  39 out of  85 | elapsed:  1.4min remaining:  1.7min\n",
      "[Parallel(n_jobs=-1)]: Done  48 out of  85 | elapsed:  1.5min remaining:  1.2min\n",
      "[Parallel(n_jobs=-1)]: Done  57 out of  85 | elapsed:  2.1min remaining:  1.1min\n",
      "[Parallel(n_jobs=-1)]: Done  66 out of  85 | elapsed:  2.2min remaining:   38.3s\n",
      "[Parallel(n_jobs=-1)]: Done  75 out of  85 | elapsed:  2.2min remaining:   17.9s\n",
      "[Parallel(n_jobs=-1)]: Done  85 out of  85 | elapsed:  2.3min finished\n"
     ]
    },
    {
     "name": "stdout",
     "output_type": "stream",
     "text": [
      "task: PickUpCup number: 00003\n"
     ]
    },
    {
     "name": "stderr",
     "output_type": "stream",
     "text": [
      "[Parallel(n_jobs=-1)]: Using backend LokyBackend with 28 concurrent workers.\n",
      "[Parallel(n_jobs=-1)]: Done   5 tasks      | elapsed:   40.0s\n",
      "[Parallel(n_jobs=-1)]: Done  16 tasks      | elapsed:   49.8s\n",
      "[Parallel(n_jobs=-1)]: Done  29 tasks      | elapsed:  1.4min\n",
      "[Parallel(n_jobs=-1)]: Done  43 out of  89 | elapsed:  1.5min remaining:  1.6min\n",
      "[Parallel(n_jobs=-1)]: Done  52 out of  89 | elapsed:  1.6min remaining:  1.2min\n",
      "[Parallel(n_jobs=-1)]: Done  61 out of  89 | elapsed:  2.2min remaining:  1.0min\n",
      "[Parallel(n_jobs=-1)]: Done  70 out of  89 | elapsed:  2.3min remaining:   37.2s\n",
      "[Parallel(n_jobs=-1)]: Done  79 out of  89 | elapsed:  2.4min remaining:   17.9s\n",
      "ERROR:root:Internal Python error in the inspect module.\n",
      "Below is the traceback from this internal error.\n",
      "\n",
      "\n",
      "KeyboardInterrupt\n",
      "\n"
     ]
    }
   ],
   "source": [
    "for task in task_list:\n",
    "    if task == 'json':\n",
    "        continue\n",
    "    \n",
    "    task_dir = os.path.join(root_path, task)\n",
    "    for number in os.listdir(task_dir):\n",
    "        pickle_dir = os.path.join(task_dir, number, 'pickle')\n",
    "        pickle_file_list = os.listdir(pickle_dir)\n",
    "        pickle_file_list.sort()\n",
    "        \n",
    "        base_data_dir = os.path.join(task_dir, number, 'base_data')\n",
    "        front_camera_dir = os.path.join(task_dir, number, 'front_camera_data')\n",
    "        left_camera_dir = os.path.join(task_dir, number, 'left_camera_data')\n",
    "        right_camera_dir = os.path.join(task_dir, number, 'right_camera_data')\n",
    "        wrist_camera_dir = os.path.join(task_dir, number, 'wrist_camera_data')\n",
    "        os.makedirs(base_data_dir, exist_ok=True)\n",
    "        os.makedirs(front_camera_dir, exist_ok=True)\n",
    "        os.makedirs(left_camera_dir, exist_ok=True)\n",
    "        os.makedirs(right_camera_dir, exist_ok=True)\n",
    "        os.makedirs(wrist_camera_dir, exist_ok=True)\n",
    "        \n",
    "        print('task: {} number: {}'.format(task, number))\n",
    "        Parallel(n_jobs=-1, verbose=10)(delayed(process)(pickle_file_name) for pickle_file_name in pickle_file_list)"
   ]
  },
  {
   "cell_type": "code",
   "execution_count": null,
   "metadata": {},
   "outputs": [],
   "source": [
    "for task in task_list:\n",
    "    if task == 'json':\n",
    "        continue\n",
    "    \n",
    "    task_dir = os.path.join(root_path, task)\n",
    "    for number in os.listdir(task_dir):\n",
    "        pickle_dir = os.path.join(task_dir, number, 'pickle')\n",
    "        pickle_file_list = os.listdir(pickle_dir)\n",
    "        pickle_file_list.sort()\n",
    "        \n",
    "        base_data_dir = os.path.join(task_dir, number, 'base_data')\n",
    "        front_camera_dir = os.path.join(task_dir, number, 'front_camera_data')\n",
    "        left_camera_dir = os.path.join(task_dir, number, 'left_camera_data')\n",
    "        right_camera_dir = os.path.join(task_dir, number, 'right_camera_data')\n",
    "        wrist_camera_dir = os.path.join(task_dir, number, 'wrist_camera_data')\n",
    "        os.makedirs(base_data_dir, exist_ok=True)\n",
    "        os.makedirs(front_camera_dir, exist_ok=True)\n",
    "        os.makedirs(left_camera_dir, exist_ok=True)\n",
    "        os.makedirs(right_camera_dir, exist_ok=True)\n",
    "        os.makedirs(wrist_camera_dir, exist_ok=True)\n",
    "        \n",
    "        print('task: {} number: {}'.format(task, number))\n",
    "        for pickle_file_name in pickle_file_list:\n",
    "            pickle_file_path = os.path.join(pickle_dir, pickle_file_name)\n",
    "            with open(pickle_file_path, 'rb') as f:\n",
    "                pickle_data = pickle.load(f)\n",
    "            \n",
    "            base_data = {}\n",
    "            front_camera_data = {}\n",
    "            left_camera_data = {}\n",
    "            right_camera_data = {}\n",
    "            wrist_camera_data = {}\n",
    "            \n",
    "            base_data['front_extrinsic_matrix'] = pickle_data.front_extrinsic_matrix\n",
    "            base_data['front_intrinsic_matrix'] = pickle_data.front_intrinsic_matrix\n",
    "            base_data['left_shoulder_extrinsic_matrix'] = pickle_data.left_shoulder_extrinsic_matrix\n",
    "            base_data['left_shoulder_intrinsic_matrix'] = pickle_data.left_shoulder_intrinsic_matrix\n",
    "            base_data['right_shoulder_extrinsic_matrix'] = pickle_data.right_shoulder_extrinsic_matrix\n",
    "            base_data['right_shoulder_intrinsic_matrix'] = pickle_data.right_shoulder_intrinsic_matrix\n",
    "            base_data['wrist_extrinsic_matrix'] = pickle_data.wrist_extrinsic_matrix\n",
    "            base_data['wrist_intrinsic_matrix'] = pickle_data.wrist_intrinsic_matrix\n",
    "            base_data['gripper_joint_positions'] = pickle_data.gripper_joint_positions\n",
    "            base_data['gripper_matrix'] = pickle_data.gripper_matrix\n",
    "            base_data['gripper_open'] = pickle_data.gripper_open\n",
    "            base_data['gripper_pose'] = pickle_data.gripper_pose\n",
    "            base_data['gripper_touch_forces'] = pickle_data.gripper_touch_forces\n",
    "            base_data['joint_forces'] = pickle_data.joint_forces\n",
    "            base_data['joint_positions'] = pickle_data.joint_positions\n",
    "            base_data['joint_velocities'] = pickle_data.joint_velocities\n",
    "            base_data['joints'] = pickle_data.joints\n",
    "            base_data['task_low_dim_state'] = pickle_data.task_low_dim_state\n",
    "            base_data_path = os.path.join(base_data_dir, pickle_file_name)\n",
    "            save_pickle(base_data_path, base_data)\n",
    "            \n",
    "            front_camera_data['rgb'] = pickle_data.front_rgb\n",
    "            front_camera_data['mask'] = pickle_data.front_mask\n",
    "            front_camera_data['depth'] = pickle_data.front_depth\n",
    "            front_camera_data_path = os.path.join(front_camera_dir, pickle_file_name)\n",
    "            save_pickle(front_camera_data_path, front_camera_data)\n",
    "            \n",
    "            left_camera_data['rgb'] = pickle_data.left_shoulder_rgb\n",
    "            left_camera_data['mask'] = pickle_data.left_shoulder_mask\n",
    "            left_camera_data['depth'] = pickle_data.left_shoulder_depth\n",
    "            left_camera_data_path = os.path.join(left_camera_dir, pickle_file_name)\n",
    "            save_pickle(left_camera_data_path, left_camera_data)\n",
    "            \n",
    "            right_camera_data['rgb'] = pickle_data.right_shoulder_rgb\n",
    "            right_camera_data['mask'] = pickle_data.right_shoulder_mask\n",
    "            right_camera_data['depth'] = pickle_data.right_shoulder_depth\n",
    "            right_camera_data_path = os.path.join(right_camera_dir, pickle_file_name)\n",
    "            save_pickle(right_camera_data_path, right_camera_data)\n",
    "            \n",
    "            wrist_camera_data['rgb'] = pickle_data.wrist_rgb\n",
    "            wrist_camera_data['mask'] = pickle_data.wrist_mask\n",
    "            wrist_camera_data['depth'] = pickle_data.wrist_depth\n",
    "            wrist_camera_data_path = os.path.join(wrist_camera_dir, pickle_file_name)\n",
    "            save_pickle(wrist_camera_data_path, wrist_camera_data)"
   ]
  }
 ],
 "metadata": {
  "kernelspec": {
   "display_name": "Python 3",
   "language": "python",
   "name": "python3"
  },
  "language_info": {
   "codemirror_mode": {
    "name": "ipython",
    "version": 3
   },
   "file_extension": ".py",
   "mimetype": "text/x-python",
   "name": "python",
   "nbconvert_exporter": "python",
   "pygments_lexer": "ipython3",
   "version": "3.6.9"
  }
 },
 "nbformat": 4,
 "nbformat_minor": 4
}
